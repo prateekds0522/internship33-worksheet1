{
 "cells": [
  {
   "cell_type": "markdown",
   "id": "602ca7a7",
   "metadata": {},
   "source": [
    "PYTHON WORKSHEET ANSWERS "
   ]
  },
  {
   "cell_type": "code",
   "execution_count": null,
   "id": "dbe2b419",
   "metadata": {},
   "outputs": [],
   "source": [
    "num = int(input(\"Enter Number: \"))\n",
    "fact = 1\n",
    "for i in range(1,num+1):\n",
    "    fact = fact*i\n",
    "print(\"Factorial number is: \",fact)   \n",
    "    \n"
   ]
  },
  {
   "cell_type": "markdown",
   "id": "3e18dd39",
   "metadata": {},
   "source": [
    "ques no 2 "
   ]
  },
  {
   "cell_type": "code",
   "execution_count": null,
   "id": "79874b77",
   "metadata": {},
   "outputs": [],
   "source": [
    "number = int(input(\"Enter a natural number : \"))\n",
    "if number < 1:\n",
    "    print(\"Number needs to be greater than 1\")    \n",
    "elif number == 1:\n",
    "    print(number,\" is neither prime nor composite\")\n",
    "else:    \n",
    "    for divisor in range(2, (number//2)+1):\n",
    "        if (number % divisor) == 0:\n",
    "            print(number, \"is a Composite Number\")\n",
    "            break\n",
    "    else:\n",
    "        print(number, \"is a Prime Number\")"
   ]
  },
  {
   "cell_type": "markdown",
   "id": "d32ea2f7",
   "metadata": {},
   "source": [
    "ques no 3"
   ]
  },
  {
   "cell_type": "code",
   "execution_count": null,
   "id": "fc2369e7",
   "metadata": {},
   "outputs": [],
   "source": [
    "a=input (\"Enter String:\")\n",
    "b=a[-1::-1]\n",
    "if(a==b):\n",
    "    print(\"Palindrome\")\n",
    "else:\n",
    "    print(\"Not Palindrome\")"
   ]
  },
  {
   "cell_type": "markdown",
   "id": "e1080618",
   "metadata": {},
   "source": [
    "ques no 4"
   ]
  },
  {
   "cell_type": "code",
   "execution_count": null,
   "id": "0935c972",
   "metadata": {},
   "outputs": [],
   "source": [
    "#HYPOTENUSE\n",
    "\n",
    "# a**2 = b**2 + c**2\n",
    "# c = sqrt(a**2 + b**2)\n",
    "\n",
    "from math import sqrt\n",
    "\n",
    "print(\"input length of shorter triangle side: \")\n",
    "a = float(input(\"Enter a: \"))\n",
    "b = float(input(\"Enter b: \"))\n",
    "c = sqrt(a**2 + b**2)\n",
    "print(\"The lenghth of hypotenuse is:\", c)"
   ]
  },
  {
   "cell_type": "markdown",
   "id": "59cf84c9",
   "metadata": {},
   "source": [
    "ques no 5"
   ]
  },
  {
   "cell_type": "code",
   "execution_count": null,
   "id": "9c54ba4f",
   "metadata": {},
   "outputs": [],
   "source": [
    "str1 = input (\"Enter the string\")\n",
    "d1 = dict()\n",
    "for c in str1:\n",
    "    if c in d1:\n",
    "        d1[c] = d1[c] + 1\n",
    "    else:\n",
    "        d1[c] = 1\n",
    "print (d1)        "
   ]
  },
  {
   "cell_type": "code",
   "execution_count": null,
   "id": "0e2c1e82",
   "metadata": {},
   "outputs": [],
   "source": []
  }
 ],
 "metadata": {
  "kernelspec": {
   "display_name": "Python 3 (ipykernel)",
   "language": "python",
   "name": "python3"
  },
  "language_info": {
   "codemirror_mode": {
    "name": "ipython",
    "version": 3
   },
   "file_extension": ".py",
   "mimetype": "text/x-python",
   "name": "python",
   "nbconvert_exporter": "python",
   "pygments_lexer": "ipython3",
   "version": "3.9.12"
  }
 },
 "nbformat": 4,
 "nbformat_minor": 5
}
